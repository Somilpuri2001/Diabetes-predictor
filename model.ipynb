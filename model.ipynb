{
 "cells": [
  {
   "cell_type": "code",
   "execution_count": 1,
   "metadata": {},
   "outputs": [],
   "source": [
    "import pandas as pd \n",
    "import numpy as np\n",
    "import seaborn as sns"
   ]
  },
  {
   "cell_type": "code",
   "execution_count": 2,
   "metadata": {},
   "outputs": [],
   "source": [
    "df = pd.read_csv('diabetes_dataset.csv')"
   ]
  },
  {
   "cell_type": "code",
   "execution_count": 60,
   "metadata": {},
   "outputs": [
    {
     "data": {
      "text/plain": [
       "(100000, 8)"
      ]
     },
     "execution_count": 60,
     "metadata": {},
     "output_type": "execute_result"
    }
   ],
   "source": [
    "df.shape\n"
   ]
  },
  {
   "cell_type": "code",
   "execution_count": 3,
   "metadata": {},
   "outputs": [
    {
     "data": {
      "text/html": [
       "<div>\n",
       "<style scoped>\n",
       "    .dataframe tbody tr th:only-of-type {\n",
       "        vertical-align: middle;\n",
       "    }\n",
       "\n",
       "    .dataframe tbody tr th {\n",
       "        vertical-align: top;\n",
       "    }\n",
       "\n",
       "    .dataframe thead th {\n",
       "        text-align: right;\n",
       "    }\n",
       "</style>\n",
       "<table border=\"1\" class=\"dataframe\">\n",
       "  <thead>\n",
       "    <tr style=\"text-align: right;\">\n",
       "      <th></th>\n",
       "      <th>year</th>\n",
       "      <th>gender</th>\n",
       "      <th>age</th>\n",
       "      <th>location</th>\n",
       "      <th>race:AfricanAmerican</th>\n",
       "      <th>race:Asian</th>\n",
       "      <th>race:Caucasian</th>\n",
       "      <th>race:Hispanic</th>\n",
       "      <th>race:Other</th>\n",
       "      <th>hypertension</th>\n",
       "      <th>heart_disease</th>\n",
       "      <th>smoking_history</th>\n",
       "      <th>bmi</th>\n",
       "      <th>hbA1c_level</th>\n",
       "      <th>blood_glucose_level</th>\n",
       "      <th>diabetes</th>\n",
       "    </tr>\n",
       "  </thead>\n",
       "  <tbody>\n",
       "    <tr>\n",
       "      <th>0</th>\n",
       "      <td>2020</td>\n",
       "      <td>Female</td>\n",
       "      <td>32.0</td>\n",
       "      <td>Alabama</td>\n",
       "      <td>0</td>\n",
       "      <td>0</td>\n",
       "      <td>0</td>\n",
       "      <td>0</td>\n",
       "      <td>1</td>\n",
       "      <td>0</td>\n",
       "      <td>0</td>\n",
       "      <td>never</td>\n",
       "      <td>27.32</td>\n",
       "      <td>5.0</td>\n",
       "      <td>100</td>\n",
       "      <td>0</td>\n",
       "    </tr>\n",
       "    <tr>\n",
       "      <th>1</th>\n",
       "      <td>2015</td>\n",
       "      <td>Female</td>\n",
       "      <td>29.0</td>\n",
       "      <td>Alabama</td>\n",
       "      <td>0</td>\n",
       "      <td>1</td>\n",
       "      <td>0</td>\n",
       "      <td>0</td>\n",
       "      <td>0</td>\n",
       "      <td>0</td>\n",
       "      <td>0</td>\n",
       "      <td>never</td>\n",
       "      <td>19.95</td>\n",
       "      <td>5.0</td>\n",
       "      <td>90</td>\n",
       "      <td>0</td>\n",
       "    </tr>\n",
       "    <tr>\n",
       "      <th>2</th>\n",
       "      <td>2015</td>\n",
       "      <td>Male</td>\n",
       "      <td>18.0</td>\n",
       "      <td>Alabama</td>\n",
       "      <td>0</td>\n",
       "      <td>0</td>\n",
       "      <td>0</td>\n",
       "      <td>0</td>\n",
       "      <td>1</td>\n",
       "      <td>0</td>\n",
       "      <td>0</td>\n",
       "      <td>never</td>\n",
       "      <td>23.76</td>\n",
       "      <td>4.8</td>\n",
       "      <td>160</td>\n",
       "      <td>0</td>\n",
       "    </tr>\n",
       "    <tr>\n",
       "      <th>3</th>\n",
       "      <td>2015</td>\n",
       "      <td>Male</td>\n",
       "      <td>41.0</td>\n",
       "      <td>Alabama</td>\n",
       "      <td>0</td>\n",
       "      <td>0</td>\n",
       "      <td>1</td>\n",
       "      <td>0</td>\n",
       "      <td>0</td>\n",
       "      <td>0</td>\n",
       "      <td>0</td>\n",
       "      <td>never</td>\n",
       "      <td>27.32</td>\n",
       "      <td>4.0</td>\n",
       "      <td>159</td>\n",
       "      <td>0</td>\n",
       "    </tr>\n",
       "    <tr>\n",
       "      <th>4</th>\n",
       "      <td>2016</td>\n",
       "      <td>Female</td>\n",
       "      <td>52.0</td>\n",
       "      <td>Alabama</td>\n",
       "      <td>1</td>\n",
       "      <td>0</td>\n",
       "      <td>0</td>\n",
       "      <td>0</td>\n",
       "      <td>0</td>\n",
       "      <td>0</td>\n",
       "      <td>0</td>\n",
       "      <td>never</td>\n",
       "      <td>23.75</td>\n",
       "      <td>6.5</td>\n",
       "      <td>90</td>\n",
       "      <td>0</td>\n",
       "    </tr>\n",
       "  </tbody>\n",
       "</table>\n",
       "</div>"
      ],
      "text/plain": [
       "   year  gender   age location  race:AfricanAmerican  race:Asian  \\\n",
       "0  2020  Female  32.0  Alabama                     0           0   \n",
       "1  2015  Female  29.0  Alabama                     0           1   \n",
       "2  2015    Male  18.0  Alabama                     0           0   \n",
       "3  2015    Male  41.0  Alabama                     0           0   \n",
       "4  2016  Female  52.0  Alabama                     1           0   \n",
       "\n",
       "   race:Caucasian  race:Hispanic  race:Other  hypertension  heart_disease  \\\n",
       "0               0              0           1             0              0   \n",
       "1               0              0           0             0              0   \n",
       "2               0              0           1             0              0   \n",
       "3               1              0           0             0              0   \n",
       "4               0              0           0             0              0   \n",
       "\n",
       "  smoking_history    bmi  hbA1c_level  blood_glucose_level  diabetes  \n",
       "0           never  27.32          5.0                  100         0  \n",
       "1           never  19.95          5.0                   90         0  \n",
       "2           never  23.76          4.8                  160         0  \n",
       "3           never  27.32          4.0                  159         0  \n",
       "4           never  23.75          6.5                   90         0  "
      ]
     },
     "execution_count": 3,
     "metadata": {},
     "output_type": "execute_result"
    }
   ],
   "source": [
    "df.head()"
   ]
  },
  {
   "cell_type": "code",
   "execution_count": 4,
   "metadata": {},
   "outputs": [
    {
     "data": {
      "text/html": [
       "<div>\n",
       "<style scoped>\n",
       "    .dataframe tbody tr th:only-of-type {\n",
       "        vertical-align: middle;\n",
       "    }\n",
       "\n",
       "    .dataframe tbody tr th {\n",
       "        vertical-align: top;\n",
       "    }\n",
       "\n",
       "    .dataframe thead th {\n",
       "        text-align: right;\n",
       "    }\n",
       "</style>\n",
       "<table border=\"1\" class=\"dataframe\">\n",
       "  <thead>\n",
       "    <tr style=\"text-align: right;\">\n",
       "      <th></th>\n",
       "      <th>year</th>\n",
       "      <th>gender</th>\n",
       "      <th>age</th>\n",
       "      <th>location</th>\n",
       "      <th>race:AfricanAmerican</th>\n",
       "      <th>race:Asian</th>\n",
       "      <th>race:Caucasian</th>\n",
       "      <th>race:Hispanic</th>\n",
       "      <th>race:Other</th>\n",
       "      <th>hypertension</th>\n",
       "      <th>heart_disease</th>\n",
       "      <th>smoking_history</th>\n",
       "      <th>bmi</th>\n",
       "      <th>hbA1c_level</th>\n",
       "      <th>blood_glucose_level</th>\n",
       "      <th>diabetes</th>\n",
       "    </tr>\n",
       "  </thead>\n",
       "  <tbody>\n",
       "    <tr>\n",
       "      <th>6008</th>\n",
       "      <td>2019</td>\n",
       "      <td>Female</td>\n",
       "      <td>44.0</td>\n",
       "      <td>Arizona</td>\n",
       "      <td>0</td>\n",
       "      <td>0</td>\n",
       "      <td>1</td>\n",
       "      <td>0</td>\n",
       "      <td>0</td>\n",
       "      <td>0</td>\n",
       "      <td>0</td>\n",
       "      <td>not current</td>\n",
       "      <td>32.53</td>\n",
       "      <td>5.7</td>\n",
       "      <td>159</td>\n",
       "      <td>0</td>\n",
       "    </tr>\n",
       "    <tr>\n",
       "      <th>50488</th>\n",
       "      <td>2019</td>\n",
       "      <td>Male</td>\n",
       "      <td>4.0</td>\n",
       "      <td>Mississippi</td>\n",
       "      <td>1</td>\n",
       "      <td>0</td>\n",
       "      <td>0</td>\n",
       "      <td>0</td>\n",
       "      <td>0</td>\n",
       "      <td>0</td>\n",
       "      <td>0</td>\n",
       "      <td>No Info</td>\n",
       "      <td>18.14</td>\n",
       "      <td>3.5</td>\n",
       "      <td>159</td>\n",
       "      <td>0</td>\n",
       "    </tr>\n",
       "    <tr>\n",
       "      <th>96498</th>\n",
       "      <td>2019</td>\n",
       "      <td>Female</td>\n",
       "      <td>42.0</td>\n",
       "      <td>Virginia</td>\n",
       "      <td>0</td>\n",
       "      <td>0</td>\n",
       "      <td>0</td>\n",
       "      <td>0</td>\n",
       "      <td>1</td>\n",
       "      <td>0</td>\n",
       "      <td>0</td>\n",
       "      <td>never</td>\n",
       "      <td>27.32</td>\n",
       "      <td>6.5</td>\n",
       "      <td>80</td>\n",
       "      <td>0</td>\n",
       "    </tr>\n",
       "    <tr>\n",
       "      <th>52510</th>\n",
       "      <td>2019</td>\n",
       "      <td>Male</td>\n",
       "      <td>62.0</td>\n",
       "      <td>Missouri</td>\n",
       "      <td>0</td>\n",
       "      <td>1</td>\n",
       "      <td>0</td>\n",
       "      <td>0</td>\n",
       "      <td>0</td>\n",
       "      <td>0</td>\n",
       "      <td>0</td>\n",
       "      <td>current</td>\n",
       "      <td>27.32</td>\n",
       "      <td>6.1</td>\n",
       "      <td>85</td>\n",
       "      <td>0</td>\n",
       "    </tr>\n",
       "    <tr>\n",
       "      <th>7124</th>\n",
       "      <td>2019</td>\n",
       "      <td>Female</td>\n",
       "      <td>19.0</td>\n",
       "      <td>Arkansas</td>\n",
       "      <td>0</td>\n",
       "      <td>0</td>\n",
       "      <td>0</td>\n",
       "      <td>0</td>\n",
       "      <td>1</td>\n",
       "      <td>0</td>\n",
       "      <td>0</td>\n",
       "      <td>never</td>\n",
       "      <td>19.89</td>\n",
       "      <td>5.7</td>\n",
       "      <td>155</td>\n",
       "      <td>0</td>\n",
       "    </tr>\n",
       "  </tbody>\n",
       "</table>\n",
       "</div>"
      ],
      "text/plain": [
       "       year  gender   age     location  race:AfricanAmerican  race:Asian  \\\n",
       "6008   2019  Female  44.0      Arizona                     0           0   \n",
       "50488  2019    Male   4.0  Mississippi                     1           0   \n",
       "96498  2019  Female  42.0     Virginia                     0           0   \n",
       "52510  2019    Male  62.0     Missouri                     0           1   \n",
       "7124   2019  Female  19.0     Arkansas                     0           0   \n",
       "\n",
       "       race:Caucasian  race:Hispanic  race:Other  hypertension  heart_disease  \\\n",
       "6008                1              0           0             0              0   \n",
       "50488               0              0           0             0              0   \n",
       "96498               0              0           1             0              0   \n",
       "52510               0              0           0             0              0   \n",
       "7124                0              0           1             0              0   \n",
       "\n",
       "      smoking_history    bmi  hbA1c_level  blood_glucose_level  diabetes  \n",
       "6008      not current  32.53          5.7                  159         0  \n",
       "50488         No Info  18.14          3.5                  159         0  \n",
       "96498           never  27.32          6.5                   80         0  \n",
       "52510         current  27.32          6.1                   85         0  \n",
       "7124            never  19.89          5.7                  155         0  "
      ]
     },
     "execution_count": 4,
     "metadata": {},
     "output_type": "execute_result"
    }
   ],
   "source": [
    "df.sample(5)"
   ]
  },
  {
   "cell_type": "code",
   "execution_count": 5,
   "metadata": {},
   "outputs": [
    {
     "data": {
      "text/plain": [
       "year                    0\n",
       "gender                  0\n",
       "age                     0\n",
       "location                0\n",
       "race:AfricanAmerican    0\n",
       "race:Asian              0\n",
       "race:Caucasian          0\n",
       "race:Hispanic           0\n",
       "race:Other              0\n",
       "hypertension            0\n",
       "heart_disease           0\n",
       "smoking_history         0\n",
       "bmi                     0\n",
       "hbA1c_level             0\n",
       "blood_glucose_level     0\n",
       "diabetes                0\n",
       "dtype: int64"
      ]
     },
     "execution_count": 5,
     "metadata": {},
     "output_type": "execute_result"
    }
   ],
   "source": [
    "df.isnull().sum()"
   ]
  },
  {
   "cell_type": "code",
   "execution_count": 6,
   "metadata": {},
   "outputs": [],
   "source": [
    "from sklearn.preprocessing import LabelEncoder"
   ]
  },
  {
   "cell_type": "code",
   "execution_count": 7,
   "metadata": {},
   "outputs": [],
   "source": [
    "le = LabelEncoder()"
   ]
  },
  {
   "cell_type": "code",
   "execution_count": 8,
   "metadata": {},
   "outputs": [],
   "source": [
    "df['gender'] = le.fit_transform(df['gender'])"
   ]
  },
  {
   "cell_type": "code",
   "execution_count": 9,
   "metadata": {},
   "outputs": [],
   "source": [
    "df['smoking_history'] = le.fit_transform(df['smoking_history'])"
   ]
  },
  {
   "cell_type": "code",
   "execution_count": 10,
   "metadata": {},
   "outputs": [
    {
     "data": {
      "text/html": [
       "<div>\n",
       "<style scoped>\n",
       "    .dataframe tbody tr th:only-of-type {\n",
       "        vertical-align: middle;\n",
       "    }\n",
       "\n",
       "    .dataframe tbody tr th {\n",
       "        vertical-align: top;\n",
       "    }\n",
       "\n",
       "    .dataframe thead th {\n",
       "        text-align: right;\n",
       "    }\n",
       "</style>\n",
       "<table border=\"1\" class=\"dataframe\">\n",
       "  <thead>\n",
       "    <tr style=\"text-align: right;\">\n",
       "      <th></th>\n",
       "      <th>year</th>\n",
       "      <th>gender</th>\n",
       "      <th>age</th>\n",
       "      <th>location</th>\n",
       "      <th>race:AfricanAmerican</th>\n",
       "      <th>race:Asian</th>\n",
       "      <th>race:Caucasian</th>\n",
       "      <th>race:Hispanic</th>\n",
       "      <th>race:Other</th>\n",
       "      <th>hypertension</th>\n",
       "      <th>heart_disease</th>\n",
       "      <th>smoking_history</th>\n",
       "      <th>bmi</th>\n",
       "      <th>hbA1c_level</th>\n",
       "      <th>blood_glucose_level</th>\n",
       "      <th>diabetes</th>\n",
       "    </tr>\n",
       "  </thead>\n",
       "  <tbody>\n",
       "    <tr>\n",
       "      <th>0</th>\n",
       "      <td>2020</td>\n",
       "      <td>0</td>\n",
       "      <td>32.0</td>\n",
       "      <td>Alabama</td>\n",
       "      <td>0</td>\n",
       "      <td>0</td>\n",
       "      <td>0</td>\n",
       "      <td>0</td>\n",
       "      <td>1</td>\n",
       "      <td>0</td>\n",
       "      <td>0</td>\n",
       "      <td>4</td>\n",
       "      <td>27.32</td>\n",
       "      <td>5.0</td>\n",
       "      <td>100</td>\n",
       "      <td>0</td>\n",
       "    </tr>\n",
       "    <tr>\n",
       "      <th>1</th>\n",
       "      <td>2015</td>\n",
       "      <td>0</td>\n",
       "      <td>29.0</td>\n",
       "      <td>Alabama</td>\n",
       "      <td>0</td>\n",
       "      <td>1</td>\n",
       "      <td>0</td>\n",
       "      <td>0</td>\n",
       "      <td>0</td>\n",
       "      <td>0</td>\n",
       "      <td>0</td>\n",
       "      <td>4</td>\n",
       "      <td>19.95</td>\n",
       "      <td>5.0</td>\n",
       "      <td>90</td>\n",
       "      <td>0</td>\n",
       "    </tr>\n",
       "    <tr>\n",
       "      <th>2</th>\n",
       "      <td>2015</td>\n",
       "      <td>1</td>\n",
       "      <td>18.0</td>\n",
       "      <td>Alabama</td>\n",
       "      <td>0</td>\n",
       "      <td>0</td>\n",
       "      <td>0</td>\n",
       "      <td>0</td>\n",
       "      <td>1</td>\n",
       "      <td>0</td>\n",
       "      <td>0</td>\n",
       "      <td>4</td>\n",
       "      <td>23.76</td>\n",
       "      <td>4.8</td>\n",
       "      <td>160</td>\n",
       "      <td>0</td>\n",
       "    </tr>\n",
       "    <tr>\n",
       "      <th>3</th>\n",
       "      <td>2015</td>\n",
       "      <td>1</td>\n",
       "      <td>41.0</td>\n",
       "      <td>Alabama</td>\n",
       "      <td>0</td>\n",
       "      <td>0</td>\n",
       "      <td>1</td>\n",
       "      <td>0</td>\n",
       "      <td>0</td>\n",
       "      <td>0</td>\n",
       "      <td>0</td>\n",
       "      <td>4</td>\n",
       "      <td>27.32</td>\n",
       "      <td>4.0</td>\n",
       "      <td>159</td>\n",
       "      <td>0</td>\n",
       "    </tr>\n",
       "    <tr>\n",
       "      <th>4</th>\n",
       "      <td>2016</td>\n",
       "      <td>0</td>\n",
       "      <td>52.0</td>\n",
       "      <td>Alabama</td>\n",
       "      <td>1</td>\n",
       "      <td>0</td>\n",
       "      <td>0</td>\n",
       "      <td>0</td>\n",
       "      <td>0</td>\n",
       "      <td>0</td>\n",
       "      <td>0</td>\n",
       "      <td>4</td>\n",
       "      <td>23.75</td>\n",
       "      <td>6.5</td>\n",
       "      <td>90</td>\n",
       "      <td>0</td>\n",
       "    </tr>\n",
       "  </tbody>\n",
       "</table>\n",
       "</div>"
      ],
      "text/plain": [
       "   year  gender   age location  race:AfricanAmerican  race:Asian  \\\n",
       "0  2020       0  32.0  Alabama                     0           0   \n",
       "1  2015       0  29.0  Alabama                     0           1   \n",
       "2  2015       1  18.0  Alabama                     0           0   \n",
       "3  2015       1  41.0  Alabama                     0           0   \n",
       "4  2016       0  52.0  Alabama                     1           0   \n",
       "\n",
       "   race:Caucasian  race:Hispanic  race:Other  hypertension  heart_disease  \\\n",
       "0               0              0           1             0              0   \n",
       "1               0              0           0             0              0   \n",
       "2               0              0           1             0              0   \n",
       "3               1              0           0             0              0   \n",
       "4               0              0           0             0              0   \n",
       "\n",
       "   smoking_history    bmi  hbA1c_level  blood_glucose_level  diabetes  \n",
       "0                4  27.32          5.0                  100         0  \n",
       "1                4  19.95          5.0                   90         0  \n",
       "2                4  23.76          4.8                  160         0  \n",
       "3                4  27.32          4.0                  159         0  \n",
       "4                4  23.75          6.5                   90         0  "
      ]
     },
     "execution_count": 10,
     "metadata": {},
     "output_type": "execute_result"
    }
   ],
   "source": [
    "df.head()"
   ]
  },
  {
   "cell_type": "code",
   "execution_count": 11,
   "metadata": {},
   "outputs": [
    {
     "data": {
      "text/html": [
       "<div>\n",
       "<style scoped>\n",
       "    .dataframe tbody tr th:only-of-type {\n",
       "        vertical-align: middle;\n",
       "    }\n",
       "\n",
       "    .dataframe tbody tr th {\n",
       "        vertical-align: top;\n",
       "    }\n",
       "\n",
       "    .dataframe thead th {\n",
       "        text-align: right;\n",
       "    }\n",
       "</style>\n",
       "<table border=\"1\" class=\"dataframe\">\n",
       "  <thead>\n",
       "    <tr style=\"text-align: right;\">\n",
       "      <th></th>\n",
       "      <th>year</th>\n",
       "      <th>gender</th>\n",
       "      <th>age</th>\n",
       "      <th>race:AfricanAmerican</th>\n",
       "      <th>race:Asian</th>\n",
       "      <th>race:Caucasian</th>\n",
       "      <th>race:Hispanic</th>\n",
       "      <th>race:Other</th>\n",
       "      <th>hypertension</th>\n",
       "      <th>heart_disease</th>\n",
       "      <th>smoking_history</th>\n",
       "      <th>bmi</th>\n",
       "      <th>hbA1c_level</th>\n",
       "      <th>blood_glucose_level</th>\n",
       "      <th>diabetes</th>\n",
       "    </tr>\n",
       "  </thead>\n",
       "  <tbody>\n",
       "    <tr>\n",
       "      <th>year</th>\n",
       "      <td>1.000000</td>\n",
       "      <td>0.001104</td>\n",
       "      <td>-0.003304</td>\n",
       "      <td>-0.004291</td>\n",
       "      <td>-0.007224</td>\n",
       "      <td>0.010587</td>\n",
       "      <td>0.004153</td>\n",
       "      <td>-0.003172</td>\n",
       "      <td>-0.003806</td>\n",
       "      <td>0.001820</td>\n",
       "      <td>-0.006519</td>\n",
       "      <td>-0.001861</td>\n",
       "      <td>-0.000465</td>\n",
       "      <td>0.002968</td>\n",
       "      <td>-0.003464</td>\n",
       "    </tr>\n",
       "    <tr>\n",
       "      <th>gender</th>\n",
       "      <td>0.001104</td>\n",
       "      <td>1.000000</td>\n",
       "      <td>-0.030656</td>\n",
       "      <td>0.001633</td>\n",
       "      <td>0.000080</td>\n",
       "      <td>-0.004055</td>\n",
       "      <td>0.002197</td>\n",
       "      <td>0.000133</td>\n",
       "      <td>0.014203</td>\n",
       "      <td>0.077696</td>\n",
       "      <td>-0.077919</td>\n",
       "      <td>-0.022994</td>\n",
       "      <td>0.019957</td>\n",
       "      <td>0.017199</td>\n",
       "      <td>0.037411</td>\n",
       "    </tr>\n",
       "    <tr>\n",
       "      <th>age</th>\n",
       "      <td>-0.003304</td>\n",
       "      <td>-0.030656</td>\n",
       "      <td>1.000000</td>\n",
       "      <td>-0.002183</td>\n",
       "      <td>0.003787</td>\n",
       "      <td>0.003790</td>\n",
       "      <td>0.001962</td>\n",
       "      <td>-0.007336</td>\n",
       "      <td>0.251171</td>\n",
       "      <td>0.233354</td>\n",
       "      <td>0.228608</td>\n",
       "      <td>0.337396</td>\n",
       "      <td>0.101354</td>\n",
       "      <td>0.110672</td>\n",
       "      <td>0.258008</td>\n",
       "    </tr>\n",
       "    <tr>\n",
       "      <th>race:AfricanAmerican</th>\n",
       "      <td>-0.004291</td>\n",
       "      <td>0.001633</td>\n",
       "      <td>-0.002183</td>\n",
       "      <td>1.000000</td>\n",
       "      <td>-0.251859</td>\n",
       "      <td>-0.250765</td>\n",
       "      <td>-0.250860</td>\n",
       "      <td>-0.251725</td>\n",
       "      <td>-0.001201</td>\n",
       "      <td>-0.000664</td>\n",
       "      <td>0.006178</td>\n",
       "      <td>-0.001249</td>\n",
       "      <td>0.001312</td>\n",
       "      <td>0.002292</td>\n",
       "      <td>0.004378</td>\n",
       "    </tr>\n",
       "    <tr>\n",
       "      <th>race:Asian</th>\n",
       "      <td>-0.007224</td>\n",
       "      <td>0.000080</td>\n",
       "      <td>0.003787</td>\n",
       "      <td>-0.251859</td>\n",
       "      <td>1.000000</td>\n",
       "      <td>-0.249148</td>\n",
       "      <td>-0.249241</td>\n",
       "      <td>-0.250102</td>\n",
       "      <td>0.003977</td>\n",
       "      <td>0.006166</td>\n",
       "      <td>-0.002324</td>\n",
       "      <td>0.005240</td>\n",
       "      <td>-0.000473</td>\n",
       "      <td>0.000171</td>\n",
       "      <td>0.003739</td>\n",
       "    </tr>\n",
       "    <tr>\n",
       "      <th>race:Caucasian</th>\n",
       "      <td>0.010587</td>\n",
       "      <td>-0.004055</td>\n",
       "      <td>0.003790</td>\n",
       "      <td>-0.250765</td>\n",
       "      <td>-0.249148</td>\n",
       "      <td>1.000000</td>\n",
       "      <td>-0.248159</td>\n",
       "      <td>-0.249015</td>\n",
       "      <td>0.000503</td>\n",
       "      <td>-0.001225</td>\n",
       "      <td>0.003558</td>\n",
       "      <td>-0.002114</td>\n",
       "      <td>-0.004033</td>\n",
       "      <td>0.004121</td>\n",
       "      <td>-0.001749</td>\n",
       "    </tr>\n",
       "    <tr>\n",
       "      <th>race:Hispanic</th>\n",
       "      <td>0.004153</td>\n",
       "      <td>0.002197</td>\n",
       "      <td>0.001962</td>\n",
       "      <td>-0.250860</td>\n",
       "      <td>-0.249241</td>\n",
       "      <td>-0.248159</td>\n",
       "      <td>1.000000</td>\n",
       "      <td>-0.249109</td>\n",
       "      <td>0.001369</td>\n",
       "      <td>-0.000771</td>\n",
       "      <td>-0.005553</td>\n",
       "      <td>0.002363</td>\n",
       "      <td>0.000446</td>\n",
       "      <td>-0.002684</td>\n",
       "      <td>-0.001301</td>\n",
       "    </tr>\n",
       "    <tr>\n",
       "      <th>race:Other</th>\n",
       "      <td>-0.003172</td>\n",
       "      <td>0.000133</td>\n",
       "      <td>-0.007336</td>\n",
       "      <td>-0.251725</td>\n",
       "      <td>-0.250102</td>\n",
       "      <td>-0.249015</td>\n",
       "      <td>-0.249109</td>\n",
       "      <td>1.000000</td>\n",
       "      <td>-0.004641</td>\n",
       "      <td>-0.003510</td>\n",
       "      <td>-0.001887</td>\n",
       "      <td>-0.004236</td>\n",
       "      <td>0.002735</td>\n",
       "      <td>-0.003905</td>\n",
       "      <td>-0.005095</td>\n",
       "    </tr>\n",
       "    <tr>\n",
       "      <th>hypertension</th>\n",
       "      <td>-0.003806</td>\n",
       "      <td>0.014203</td>\n",
       "      <td>0.251171</td>\n",
       "      <td>-0.001201</td>\n",
       "      <td>0.003977</td>\n",
       "      <td>0.000503</td>\n",
       "      <td>0.001369</td>\n",
       "      <td>-0.004641</td>\n",
       "      <td>1.000000</td>\n",
       "      <td>0.121262</td>\n",
       "      <td>0.093177</td>\n",
       "      <td>0.147666</td>\n",
       "      <td>0.080939</td>\n",
       "      <td>0.084429</td>\n",
       "      <td>0.197823</td>\n",
       "    </tr>\n",
       "    <tr>\n",
       "      <th>heart_disease</th>\n",
       "      <td>0.001820</td>\n",
       "      <td>0.077696</td>\n",
       "      <td>0.233354</td>\n",
       "      <td>-0.000664</td>\n",
       "      <td>0.006166</td>\n",
       "      <td>-0.001225</td>\n",
       "      <td>-0.000771</td>\n",
       "      <td>-0.003510</td>\n",
       "      <td>0.121262</td>\n",
       "      <td>1.000000</td>\n",
       "      <td>0.027598</td>\n",
       "      <td>0.061198</td>\n",
       "      <td>0.067589</td>\n",
       "      <td>0.070066</td>\n",
       "      <td>0.171727</td>\n",
       "    </tr>\n",
       "    <tr>\n",
       "      <th>smoking_history</th>\n",
       "      <td>-0.006519</td>\n",
       "      <td>-0.077919</td>\n",
       "      <td>0.228608</td>\n",
       "      <td>0.006178</td>\n",
       "      <td>-0.002324</td>\n",
       "      <td>0.003558</td>\n",
       "      <td>-0.005553</td>\n",
       "      <td>-0.001887</td>\n",
       "      <td>0.093177</td>\n",
       "      <td>0.027598</td>\n",
       "      <td>1.000000</td>\n",
       "      <td>0.179361</td>\n",
       "      <td>0.037369</td>\n",
       "      <td>0.040219</td>\n",
       "      <td>0.094290</td>\n",
       "    </tr>\n",
       "    <tr>\n",
       "      <th>bmi</th>\n",
       "      <td>-0.001861</td>\n",
       "      <td>-0.022994</td>\n",
       "      <td>0.337396</td>\n",
       "      <td>-0.001249</td>\n",
       "      <td>0.005240</td>\n",
       "      <td>-0.002114</td>\n",
       "      <td>0.002363</td>\n",
       "      <td>-0.004236</td>\n",
       "      <td>0.147666</td>\n",
       "      <td>0.061198</td>\n",
       "      <td>0.179361</td>\n",
       "      <td>1.000000</td>\n",
       "      <td>0.082997</td>\n",
       "      <td>0.091261</td>\n",
       "      <td>0.214357</td>\n",
       "    </tr>\n",
       "    <tr>\n",
       "      <th>hbA1c_level</th>\n",
       "      <td>-0.000465</td>\n",
       "      <td>0.019957</td>\n",
       "      <td>0.101354</td>\n",
       "      <td>0.001312</td>\n",
       "      <td>-0.000473</td>\n",
       "      <td>-0.004033</td>\n",
       "      <td>0.000446</td>\n",
       "      <td>0.002735</td>\n",
       "      <td>0.080939</td>\n",
       "      <td>0.067589</td>\n",
       "      <td>0.037369</td>\n",
       "      <td>0.082997</td>\n",
       "      <td>1.000000</td>\n",
       "      <td>0.166733</td>\n",
       "      <td>0.400660</td>\n",
       "    </tr>\n",
       "    <tr>\n",
       "      <th>blood_glucose_level</th>\n",
       "      <td>0.002968</td>\n",
       "      <td>0.017199</td>\n",
       "      <td>0.110672</td>\n",
       "      <td>0.002292</td>\n",
       "      <td>0.000171</td>\n",
       "      <td>0.004121</td>\n",
       "      <td>-0.002684</td>\n",
       "      <td>-0.003905</td>\n",
       "      <td>0.084429</td>\n",
       "      <td>0.070066</td>\n",
       "      <td>0.040219</td>\n",
       "      <td>0.091261</td>\n",
       "      <td>0.166733</td>\n",
       "      <td>1.000000</td>\n",
       "      <td>0.419558</td>\n",
       "    </tr>\n",
       "    <tr>\n",
       "      <th>diabetes</th>\n",
       "      <td>-0.003464</td>\n",
       "      <td>0.037411</td>\n",
       "      <td>0.258008</td>\n",
       "      <td>0.004378</td>\n",
       "      <td>0.003739</td>\n",
       "      <td>-0.001749</td>\n",
       "      <td>-0.001301</td>\n",
       "      <td>-0.005095</td>\n",
       "      <td>0.197823</td>\n",
       "      <td>0.171727</td>\n",
       "      <td>0.094290</td>\n",
       "      <td>0.214357</td>\n",
       "      <td>0.400660</td>\n",
       "      <td>0.419558</td>\n",
       "      <td>1.000000</td>\n",
       "    </tr>\n",
       "  </tbody>\n",
       "</table>\n",
       "</div>"
      ],
      "text/plain": [
       "                          year    gender       age  race:AfricanAmerican  \\\n",
       "year                  1.000000  0.001104 -0.003304             -0.004291   \n",
       "gender                0.001104  1.000000 -0.030656              0.001633   \n",
       "age                  -0.003304 -0.030656  1.000000             -0.002183   \n",
       "race:AfricanAmerican -0.004291  0.001633 -0.002183              1.000000   \n",
       "race:Asian           -0.007224  0.000080  0.003787             -0.251859   \n",
       "race:Caucasian        0.010587 -0.004055  0.003790             -0.250765   \n",
       "race:Hispanic         0.004153  0.002197  0.001962             -0.250860   \n",
       "race:Other           -0.003172  0.000133 -0.007336             -0.251725   \n",
       "hypertension         -0.003806  0.014203  0.251171             -0.001201   \n",
       "heart_disease         0.001820  0.077696  0.233354             -0.000664   \n",
       "smoking_history      -0.006519 -0.077919  0.228608              0.006178   \n",
       "bmi                  -0.001861 -0.022994  0.337396             -0.001249   \n",
       "hbA1c_level          -0.000465  0.019957  0.101354              0.001312   \n",
       "blood_glucose_level   0.002968  0.017199  0.110672              0.002292   \n",
       "diabetes             -0.003464  0.037411  0.258008              0.004378   \n",
       "\n",
       "                      race:Asian  race:Caucasian  race:Hispanic  race:Other  \\\n",
       "year                   -0.007224        0.010587       0.004153   -0.003172   \n",
       "gender                  0.000080       -0.004055       0.002197    0.000133   \n",
       "age                     0.003787        0.003790       0.001962   -0.007336   \n",
       "race:AfricanAmerican   -0.251859       -0.250765      -0.250860   -0.251725   \n",
       "race:Asian              1.000000       -0.249148      -0.249241   -0.250102   \n",
       "race:Caucasian         -0.249148        1.000000      -0.248159   -0.249015   \n",
       "race:Hispanic          -0.249241       -0.248159       1.000000   -0.249109   \n",
       "race:Other             -0.250102       -0.249015      -0.249109    1.000000   \n",
       "hypertension            0.003977        0.000503       0.001369   -0.004641   \n",
       "heart_disease           0.006166       -0.001225      -0.000771   -0.003510   \n",
       "smoking_history        -0.002324        0.003558      -0.005553   -0.001887   \n",
       "bmi                     0.005240       -0.002114       0.002363   -0.004236   \n",
       "hbA1c_level            -0.000473       -0.004033       0.000446    0.002735   \n",
       "blood_glucose_level     0.000171        0.004121      -0.002684   -0.003905   \n",
       "diabetes                0.003739       -0.001749      -0.001301   -0.005095   \n",
       "\n",
       "                      hypertension  heart_disease  smoking_history       bmi  \\\n",
       "year                     -0.003806       0.001820        -0.006519 -0.001861   \n",
       "gender                    0.014203       0.077696        -0.077919 -0.022994   \n",
       "age                       0.251171       0.233354         0.228608  0.337396   \n",
       "race:AfricanAmerican     -0.001201      -0.000664         0.006178 -0.001249   \n",
       "race:Asian                0.003977       0.006166        -0.002324  0.005240   \n",
       "race:Caucasian            0.000503      -0.001225         0.003558 -0.002114   \n",
       "race:Hispanic             0.001369      -0.000771        -0.005553  0.002363   \n",
       "race:Other               -0.004641      -0.003510        -0.001887 -0.004236   \n",
       "hypertension              1.000000       0.121262         0.093177  0.147666   \n",
       "heart_disease             0.121262       1.000000         0.027598  0.061198   \n",
       "smoking_history           0.093177       0.027598         1.000000  0.179361   \n",
       "bmi                       0.147666       0.061198         0.179361  1.000000   \n",
       "hbA1c_level               0.080939       0.067589         0.037369  0.082997   \n",
       "blood_glucose_level       0.084429       0.070066         0.040219  0.091261   \n",
       "diabetes                  0.197823       0.171727         0.094290  0.214357   \n",
       "\n",
       "                      hbA1c_level  blood_glucose_level  diabetes  \n",
       "year                    -0.000465             0.002968 -0.003464  \n",
       "gender                   0.019957             0.017199  0.037411  \n",
       "age                      0.101354             0.110672  0.258008  \n",
       "race:AfricanAmerican     0.001312             0.002292  0.004378  \n",
       "race:Asian              -0.000473             0.000171  0.003739  \n",
       "race:Caucasian          -0.004033             0.004121 -0.001749  \n",
       "race:Hispanic            0.000446            -0.002684 -0.001301  \n",
       "race:Other               0.002735            -0.003905 -0.005095  \n",
       "hypertension             0.080939             0.084429  0.197823  \n",
       "heart_disease            0.067589             0.070066  0.171727  \n",
       "smoking_history          0.037369             0.040219  0.094290  \n",
       "bmi                      0.082997             0.091261  0.214357  \n",
       "hbA1c_level              1.000000             0.166733  0.400660  \n",
       "blood_glucose_level      0.166733             1.000000  0.419558  \n",
       "diabetes                 0.400660             0.419558  1.000000  "
      ]
     },
     "execution_count": 11,
     "metadata": {},
     "output_type": "execute_result"
    }
   ],
   "source": [
    "df.drop(columns=['location']).corr()"
   ]
  },
  {
   "cell_type": "code",
   "execution_count": 12,
   "metadata": {},
   "outputs": [
    {
     "data": {
      "text/plain": [
       "<Axes: >"
      ]
     },
     "execution_count": 12,
     "metadata": {},
     "output_type": "execute_result"
    },
    {
     "data": {
      "image/png": "[encoded data removed]",
      "text/plain": [
       "<Figure size 640x480 with 2 Axes>"
      ]
     },
     "metadata": {},
     "output_type": "display_data"
    }
   ],
   "source": [
    "sns.heatmap(df.drop(columns=['location']).corr())"
   ]
  },
  {
   "cell_type": "code",
   "execution_count": 13,
   "metadata": {},
   "outputs": [],
   "source": [
    "df.drop(columns=['year','gender','location','race:AfricanAmerican','race:Asian','race:Caucasian','race:Hispanic','race:Other'],inplace=True)"
   ]
  },
  {
   "cell_type": "code",
   "execution_count": 14,
   "metadata": {},
   "outputs": [
    {
     "data": {
      "text/html": [
       "<div>\n",
       "<style scoped>\n",
       "    .dataframe tbody tr th:only-of-type {\n",
       "        vertical-align: middle;\n",
       "    }\n",
       "\n",
       "    .dataframe tbody tr th {\n",
       "        vertical-align: top;\n",
       "    }\n",
       "\n",
       "    .dataframe thead th {\n",
       "        text-align: right;\n",
       "    }\n",
       "</style>\n",
       "<table border=\"1\" class=\"dataframe\">\n",
       "  <thead>\n",
       "    <tr style=\"text-align: right;\">\n",
       "      <th></th>\n",
       "      <th>age</th>\n",
       "      <th>hypertension</th>\n",
       "      <th>heart_disease</th>\n",
       "      <th>smoking_history</th>\n",
       "      <th>bmi</th>\n",
       "      <th>hbA1c_level</th>\n",
       "      <th>blood_glucose_level</th>\n",
       "      <th>diabetes</th>\n",
       "    </tr>\n",
       "  </thead>\n",
       "  <tbody>\n",
       "    <tr>\n",
       "      <th>0</th>\n",
       "      <td>32.0</td>\n",
       "      <td>0</td>\n",
       "      <td>0</td>\n",
       "      <td>4</td>\n",
       "      <td>27.32</td>\n",
       "      <td>5.0</td>\n",
       "      <td>100</td>\n",
       "      <td>0</td>\n",
       "    </tr>\n",
       "    <tr>\n",
       "      <th>1</th>\n",
       "      <td>29.0</td>\n",
       "      <td>0</td>\n",
       "      <td>0</td>\n",
       "      <td>4</td>\n",
       "      <td>19.95</td>\n",
       "      <td>5.0</td>\n",
       "      <td>90</td>\n",
       "      <td>0</td>\n",
       "    </tr>\n",
       "    <tr>\n",
       "      <th>2</th>\n",
       "      <td>18.0</td>\n",
       "      <td>0</td>\n",
       "      <td>0</td>\n",
       "      <td>4</td>\n",
       "      <td>23.76</td>\n",
       "      <td>4.8</td>\n",
       "      <td>160</td>\n",
       "      <td>0</td>\n",
       "    </tr>\n",
       "    <tr>\n",
       "      <th>3</th>\n",
       "      <td>41.0</td>\n",
       "      <td>0</td>\n",
       "      <td>0</td>\n",
       "      <td>4</td>\n",
       "      <td>27.32</td>\n",
       "      <td>4.0</td>\n",
       "      <td>159</td>\n",
       "      <td>0</td>\n",
       "    </tr>\n",
       "    <tr>\n",
       "      <th>4</th>\n",
       "      <td>52.0</td>\n",
       "      <td>0</td>\n",
       "      <td>0</td>\n",
       "      <td>4</td>\n",
       "      <td>23.75</td>\n",
       "      <td>6.5</td>\n",
       "      <td>90</td>\n",
       "      <td>0</td>\n",
       "    </tr>\n",
       "  </tbody>\n",
       "</table>\n",
       "</div>"
      ],
      "text/plain": [
       "    age  hypertension  heart_disease  smoking_history    bmi  hbA1c_level  \\\n",
       "0  32.0             0              0                4  27.32          5.0   \n",
       "1  29.0             0              0                4  19.95          5.0   \n",
       "2  18.0             0              0                4  23.76          4.8   \n",
       "3  41.0             0              0                4  27.32          4.0   \n",
       "4  52.0             0              0                4  23.75          6.5   \n",
       "\n",
       "   blood_glucose_level  diabetes  \n",
       "0                  100         0  \n",
       "1                   90         0  \n",
       "2                  160         0  \n",
       "3                  159         0  \n",
       "4                   90         0  "
      ]
     },
     "execution_count": 14,
     "metadata": {},
     "output_type": "execute_result"
    }
   ],
   "source": [
    "df.head()"
   ]
  },
  {
   "cell_type": "code",
   "execution_count": 15,
   "metadata": {},
   "outputs": [
    {
     "data": {
      "text/plain": [
       "<Axes: xlabel='diabetes', ylabel='count'>"
      ]
     },
     "execution_count": 15,
     "metadata": {},
     "output_type": "execute_result"
    },
    {
     "data": {
      "image/png": "[encoded data removed]",
      "text/plain": [
       "<Figure size 640x480 with 1 Axes>"
      ]
     },
     "metadata": {},
     "output_type": "display_data"
    }
   ],
   "source": [
    "sns.countplot(x='diabetes',data=df)"
   ]
  },
  {
   "cell_type": "code",
   "execution_count": 16,
   "metadata": {},
   "outputs": [
    {
     "data": {
      "text/plain": [
       "diabetes\n",
       "0    91500\n",
       "1     8500\n",
       "Name: count, dtype: int64"
      ]
     },
     "execution_count": 16,
     "metadata": {},
     "output_type": "execute_result"
    }
   ],
   "source": [
    "df['diabetes'].value_counts()"
   ]
  },
  {
   "cell_type": "code",
   "execution_count": 17,
   "metadata": {},
   "outputs": [],
   "source": [
    "X = df.drop(columns=['diabetes'])\n",
    "y = df.iloc[:,-1]"
   ]
  },
  {
   "cell_type": "code",
   "execution_count": 18,
   "metadata": {},
   "outputs": [],
   "source": [
    "from imblearn.under_sampling import RandomUnderSampler"
   ]
  },
  {
   "cell_type": "code",
   "execution_count": 19,
   "metadata": {},
   "outputs": [],
   "source": [
    "undersampler = RandomUnderSampler(random_state=2)"
   ]
  },
  {
   "cell_type": "code",
   "execution_count": 20,
   "metadata": {},
   "outputs": [],
   "source": [
    "X_resampled,y_resampled = undersampler.fit_resample(X,y)"
   ]
  },
  {
   "cell_type": "code",
   "execution_count": 21,
   "metadata": {},
   "outputs": [
    {
     "data": {
      "text/plain": [
       "<Axes: xlabel='diabetes', ylabel='count'>"
      ]
     },
     "execution_count": 21,
     "metadata": {},
     "output_type": "execute_result"
    },
    {
     "data": {
      "image/png": "[encoded data removed]",
      "text/plain": [
       "<Figure size 640x480 with 1 Axes>"
      ]
     },
     "metadata": {},
     "output_type": "display_data"
    }
   ],
   "source": [
    "sns.countplot(x=y_resampled)"
   ]
  },
  {
   "cell_type": "code",
   "execution_count": 61,
   "metadata": {},
   "outputs": [
    {
     "data": {
      "text/plain": [
       "(17000, 7)"
      ]
     },
     "execution_count": 61,
     "metadata": {},
     "output_type": "execute_result"
    }
   ],
   "source": [
    "X_resampled.shape"
   ]
  },
  {
   "cell_type": "code",
   "execution_count": 62,
   "metadata": {},
   "outputs": [
    {
     "data": {
      "text/plain": [
       "(17000,)"
      ]
     },
     "execution_count": 62,
     "metadata": {},
     "output_type": "execute_result"
    }
   ],
   "source": [
    "y_resampled.shape"
   ]
  },
  {
   "cell_type": "code",
   "execution_count": 63,
   "metadata": {},
   "outputs": [],
   "source": [
    "from sklearn.model_selection import train_test_split,GridSearchCV\n",
    "from sklearn.linear_model import LogisticRegression\n",
    "from sklearn.metrics import accuracy_score,confusion_matrix,precision_score,recall_score"
   ]
  },
  {
   "cell_type": "code",
   "execution_count": 64,
   "metadata": {},
   "outputs": [],
   "source": [
    "x_train,x_test,y_train,y_test = train_test_split(X,y,test_size=0.2,random_state=42)"
   ]
  },
  {
   "cell_type": "code",
   "execution_count": 65,
   "metadata": {},
   "outputs": [],
   "source": [
    "lr = LogisticRegression()"
   ]
  },
  {
   "cell_type": "code",
   "execution_count": 66,
   "metadata": {},
   "outputs": [
    {
     "name": "stderr",
     "output_type": "stream",
     "text": [
      "e:\\anaconda3\\Lib\\site-packages\\sklearn\\linear_model\\_logistic.py:458: ConvergenceWarning: lbfgs failed to converge (status=1):\n",
      "STOP: TOTAL NO. of ITERATIONS REACHED LIMIT.\n",
      "\n",
      "Increase the number of iterations (max_iter) or scale the data as shown in:\n",
      "    https://scikit-learn.org/stable/modules/preprocessing.html\n",
      "Please also refer to the documentation for alternative solver options:\n",
      "    https://scikit-learn.org/stable/modules/linear_model.html#logistic-regression\n",
      "  n_iter_i = _check_optimize_result(\n"
     ]
    },
    {
     "data": {
      "text/html": [
       "<style>#sk-container-id-5 {color: black;background-color: white;}#sk-container-id-5 pre{padding: 0;}#sk-container-id-5 div.sk-toggleable {background-color: white;}#sk-container-id-5 label.sk-toggleable__label {cursor: pointer;display: block;width: 100%;margin-bottom: 0;padding: 0.3em;box-sizing: border-box;text-align: center;}#sk-container-id-5 label.sk-toggleable__label-arrow:before {content: \"▸\";float: left;margin-right: 0.25em;color: #696969;}#sk-container-id-5 label.sk-toggleable__label-arrow:hover:before {color: black;}#sk-container-id-5 div.sk-estimator:hover label.sk-toggleable__label-arrow:before {color: black;}#sk-container-id-5 div.sk-toggleable__content {max-height: 0;max-width: 0;overflow: hidden;text-align: left;background-color: #f0f8ff;}#sk-container-id-5 div.sk-toggleable__content pre {margin: 0.2em;color: black;border-radius: 0.25em;background-color: #f0f8ff;}#sk-container-id-5 input.sk-toggleable__control:checked~div.sk-toggleable__content {max-height: 200px;max-width: 100%;overflow: auto;}#sk-container-id-5 input.sk-toggleable__control:checked~label.sk-toggleable__label-arrow:before {content: \"▾\";}#sk-container-id-5 div.sk-estimator input.sk-toggleable__control:checked~label.sk-toggleable__label {background-color: #d4ebff;}#sk-container-id-5 div.sk-label input.sk-toggleable__control:checked~label.sk-toggleable__label {background-color: #d4ebff;}#sk-container-id-5 input.sk-hidden--visually {border: 0;clip: rect(1px 1px 1px 1px);clip: rect(1px, 1px, 1px, 1px);height: 1px;margin: -1px;overflow: hidden;padding: 0;position: absolute;width: 1px;}#sk-container-id-5 div.sk-estimator {font-family: monospace;background-color: #f0f8ff;border: 1px dotted black;border-radius: 0.25em;box-sizing: border-box;margin-bottom: 0.5em;}#sk-container-id-5 div.sk-estimator:hover {background-color: #d4ebff;}#sk-container-id-5 div.sk-parallel-item::after {content: \"\";width: 100%;border-bottom: 1px solid gray;flex-grow: 1;}#sk-container-id-5 div.sk-label:hover label.sk-toggleable__label {background-color: #d4ebff;}#sk-container-id-5 div.sk-serial::before {content: \"\";position: absolute;border-left: 1px solid gray;box-sizing: border-box;top: 0;bottom: 0;left: 50%;z-index: 0;}#sk-container-id-5 div.sk-serial {display: flex;flex-direction: column;align-items: center;background-color: white;padding-right: 0.2em;padding-left: 0.2em;position: relative;}#sk-container-id-5 div.sk-item {position: relative;z-index: 1;}#sk-container-id-5 div.sk-parallel {display: flex;align-items: stretch;justify-content: center;background-color: white;position: relative;}#sk-container-id-5 div.sk-item::before, #sk-container-id-5 div.sk-parallel-item::before {content: \"\";position: absolute;border-left: 1px solid gray;box-sizing: border-box;top: 0;bottom: 0;left: 50%;z-index: -1;}#sk-container-id-5 div.sk-parallel-item {display: flex;flex-direction: column;z-index: 1;position: relative;background-color: white;}#sk-container-id-5 div.sk-parallel-item:first-child::after {align-self: flex-end;width: 50%;}#sk-container-id-5 div.sk-parallel-item:last-child::after {align-self: flex-start;width: 50%;}#sk-container-id-5 div.sk-parallel-item:only-child::after {width: 0;}#sk-container-id-5 div.sk-dashed-wrapped {border: 1px dashed gray;margin: 0 0.4em 0.5em 0.4em;box-sizing: border-box;padding-bottom: 0.4em;background-color: white;}#sk-container-id-5 div.sk-label label {font-family: monospace;font-weight: bold;display: inline-block;line-height: 1.2em;}#sk-container-id-5 div.sk-label-container {text-align: center;}#sk-container-id-5 div.sk-container {/* jupyter's `normalize.less` sets `[hidden] { display: none; }` but bootstrap.min.css set `[hidden] { display: none !important; }` so we also need the `!important` here to be able to override the default hidden behavior on the sphinx rendered scikit-learn.org. See: https://github.com/scikit-learn/scikit-learn/issues/21755 */display: inline-block !important;position: relative;}#sk-container-id-5 div.sk-text-repr-fallback {display: none;}</style><div id=\"sk-container-id-5\" class=\"sk-top-container\"><div class=\"sk-text-repr-fallback\"><pre>LogisticRegression()</pre><b>In a Jupyter environment, please rerun this cell to show the HTML representation or trust the notebook. <br />On GitHub, the HTML representation is unable to render, please try loading this page with nbviewer.org.</b></div><div class=\"sk-container\" hidden><div class=\"sk-item\"><div class=\"sk-estimator sk-toggleable\"><input class=\"sk-toggleable__control sk-hidden--visually\" id=\"sk-estimator-id-5\" type=\"checkbox\" checked><label for=\"sk-estimator-id-5\" class=\"sk-toggleable__label sk-toggleable__label-arrow\">LogisticRegression</label><div class=\"sk-toggleable__content\"><pre>LogisticRegression()</pre></div></div></div></div></div>"
      ],
      "text/plain": [
       "LogisticRegression()"
      ]
     },
     "execution_count": 66,
     "metadata": {},
     "output_type": "execute_result"
    }
   ],
   "source": [
    "lr.fit(x_train,y_train)"
   ]
  },
  {
   "cell_type": "code",
   "execution_count": 67,
   "metadata": {},
   "outputs": [],
   "source": [
    "y_pred = lr.predict(x_test)"
   ]
  },
  {
   "cell_type": "code",
   "execution_count": 68,
   "metadata": {},
   "outputs": [
    {
     "name": "stdout",
     "output_type": "stream",
     "text": [
      "Accuracy Score:-  0.96015\n",
      "Precision Score:-  0.8852040816326531\n",
      "Recall Score:-  0.6112742219612448\n",
      "confusion matrix:- \n",
      "[[18162   135]\n",
      " [  662  1041]]\n"
     ]
    }
   ],
   "source": [
    "print(\"Accuracy Score:- \",accuracy_score(y_test,y_pred))\n",
    "print(\"Precision Score:- \",precision_score(y_test,y_pred))\n",
    "print(\"Recall Score:- \",recall_score(y_test,y_pred))\n",
    "print(\"confusion matrix:- \")\n",
    "print(confusion_matrix(y_test,y_pred))"
   ]
  },
  {
   "cell_type": "code",
   "execution_count": 28,
   "metadata": {},
   "outputs": [],
   "source": [
    "x_train_resampled,x_test_resampled,y_train_resampled,y_test_resampled = train_test_split(X_resampled,y_resampled,test_size=0.2,random_state=42)"
   ]
  },
  {
   "cell_type": "code",
   "execution_count": 29,
   "metadata": {},
   "outputs": [],
   "source": [
    "lr_resampled = LogisticRegression()"
   ]
  },
  {
   "cell_type": "code",
   "execution_count": 30,
   "metadata": {},
   "outputs": [
    {
     "name": "stderr",
     "output_type": "stream",
     "text": [
      "e:\\anaconda3\\Lib\\site-packages\\sklearn\\linear_model\\_logistic.py:458: ConvergenceWarning: lbfgs failed to converge (status=1):\n",
      "STOP: TOTAL NO. of ITERATIONS REACHED LIMIT.\n",
      "\n",
      "Increase the number of iterations (max_iter) or scale the data as shown in:\n",
      "    https://scikit-learn.org/stable/modules/preprocessing.html\n",
      "Please also refer to the documentation for alternative solver options:\n",
      "    https://scikit-learn.org/stable/modules/linear_model.html#logistic-regression\n",
      "  n_iter_i = _check_optimize_result(\n"
     ]
    },
    {
     "data": {
      "text/html": [
       "<style>#sk-container-id-2 {color: black;background-color: white;}#sk-container-id-2 pre{padding: 0;}#sk-container-id-2 div.sk-toggleable {background-color: white;}#sk-container-id-2 label.sk-toggleable__label {cursor: pointer;display: block;width: 100%;margin-bottom: 0;padding: 0.3em;box-sizing: border-box;text-align: center;}#sk-container-id-2 label.sk-toggleable__label-arrow:before {content: \"▸\";float: left;margin-right: 0.25em;color: #696969;}#sk-container-id-2 label.sk-toggleable__label-arrow:hover:before {color: black;}#sk-container-id-2 div.sk-estimator:hover label.sk-toggleable__label-arrow:before {color: black;}#sk-container-id-2 div.sk-toggleable__content {max-height: 0;max-width: 0;overflow: hidden;text-align: left;background-color: #f0f8ff;}#sk-container-id-2 div.sk-toggleable__content pre {margin: 0.2em;color: black;border-radius: 0.25em;background-color: #f0f8ff;}#sk-container-id-2 input.sk-toggleable__control:checked~div.sk-toggleable__content {max-height: 200px;max-width: 100%;overflow: auto;}#sk-container-id-2 input.sk-toggleable__control:checked~label.sk-toggleable__label-arrow:before {content: \"▾\";}#sk-container-id-2 div.sk-estimator input.sk-toggleable__control:checked~label.sk-toggleable__label {background-color: #d4ebff;}#sk-container-id-2 div.sk-label input.sk-toggleable__control:checked~label.sk-toggleable__label {background-color: #d4ebff;}#sk-container-id-2 input.sk-hidden--visually {border: 0;clip: rect(1px 1px 1px 1px);clip: rect(1px, 1px, 1px, 1px);height: 1px;margin: -1px;overflow: hidden;padding: 0;position: absolute;width: 1px;}#sk-container-id-2 div.sk-estimator {font-family: monospace;background-color: #f0f8ff;border: 1px dotted black;border-radius: 0.25em;box-sizing: border-box;margin-bottom: 0.5em;}#sk-container-id-2 div.sk-estimator:hover {background-color: #d4ebff;}#sk-container-id-2 div.sk-parallel-item::after {content: \"\";width: 100%;border-bottom: 1px solid gray;flex-grow: 1;}#sk-container-id-2 div.sk-label:hover label.sk-toggleable__label {background-color: #d4ebff;}#sk-container-id-2 div.sk-serial::before {content: \"\";position: absolute;border-left: 1px solid gray;box-sizing: border-box;top: 0;bottom: 0;left: 50%;z-index: 0;}#sk-container-id-2 div.sk-serial {display: flex;flex-direction: column;align-items: center;background-color: white;padding-right: 0.2em;padding-left: 0.2em;position: relative;}#sk-container-id-2 div.sk-item {position: relative;z-index: 1;}#sk-container-id-2 div.sk-parallel {display: flex;align-items: stretch;justify-content: center;background-color: white;position: relative;}#sk-container-id-2 div.sk-item::before, #sk-container-id-2 div.sk-parallel-item::before {content: \"\";position: absolute;border-left: 1px solid gray;box-sizing: border-box;top: 0;bottom: 0;left: 50%;z-index: -1;}#sk-container-id-2 div.sk-parallel-item {display: flex;flex-direction: column;z-index: 1;position: relative;background-color: white;}#sk-container-id-2 div.sk-parallel-item:first-child::after {align-self: flex-end;width: 50%;}#sk-container-id-2 div.sk-parallel-item:last-child::after {align-self: flex-start;width: 50%;}#sk-container-id-2 div.sk-parallel-item:only-child::after {width: 0;}#sk-container-id-2 div.sk-dashed-wrapped {border: 1px dashed gray;margin: 0 0.4em 0.5em 0.4em;box-sizing: border-box;padding-bottom: 0.4em;background-color: white;}#sk-container-id-2 div.sk-label label {font-family: monospace;font-weight: bold;display: inline-block;line-height: 1.2em;}#sk-container-id-2 div.sk-label-container {text-align: center;}#sk-container-id-2 div.sk-container {/* jupyter's `normalize.less` sets `[hidden] { display: none; }` but bootstrap.min.css set `[hidden] { display: none !important; }` so we also need the `!important` here to be able to override the default hidden behavior on the sphinx rendered scikit-learn.org. See: https://github.com/scikit-learn/scikit-learn/issues/21755 */display: inline-block !important;position: relative;}#sk-container-id-2 div.sk-text-repr-fallback {display: none;}</style><div id=\"sk-container-id-2\" class=\"sk-top-container\"><div class=\"sk-text-repr-fallback\"><pre>LogisticRegression()</pre><b>In a Jupyter environment, please rerun this cell to show the HTML representation or trust the notebook. <br />On GitHub, the HTML representation is unable to render, please try loading this page with nbviewer.org.</b></div><div class=\"sk-container\" hidden><div class=\"sk-item\"><div class=\"sk-estimator sk-toggleable\"><input class=\"sk-toggleable__control sk-hidden--visually\" id=\"sk-estimator-id-2\" type=\"checkbox\" checked><label for=\"sk-estimator-id-2\" class=\"sk-toggleable__label sk-toggleable__label-arrow\">LogisticRegression</label><div class=\"sk-toggleable__content\"><pre>LogisticRegression()</pre></div></div></div></div></div>"
      ],
      "text/plain": [
       "LogisticRegression()"
      ]
     },
     "execution_count": 30,
     "metadata": {},
     "output_type": "execute_result"
    }
   ],
   "source": [
    "lr_resampled.fit(x_train_resampled,y_train_resampled)"
   ]
  },
  {
   "cell_type": "code",
   "execution_count": 31,
   "metadata": {},
   "outputs": [],
   "source": [
    "y_pred_resampled = lr_resampled.predict(x_test_resampled)"
   ]
  },
  {
   "cell_type": "code",
   "execution_count": 32,
   "metadata": {},
   "outputs": [
    {
     "name": "stdout",
     "output_type": "stream",
     "text": [
      "Accuracy Score Resampled:-  0.8894117647058823\n",
      "Precision Score:-  0.8962655601659751\n",
      "confusion matrix Resampled:- \n",
      "[[1512  175]\n",
      " [ 201 1512]]\n"
     ]
    }
   ],
   "source": [
    "print(\"Accuracy Score Resampled:- \",accuracy_score(y_test_resampled,y_pred_resampled))\n",
    "print(\"Precision Score:- \",precision_score(y_test_resampled,y_pred_resampled))\n",
    "print(\"confusion matrix Resampled:- \")\n",
    "print(confusion_matrix(y_test_resampled,y_pred_resampled))"
   ]
  },
  {
   "cell_type": "markdown",
   "metadata": {},
   "source": [
    "# 1. Without undersampling but with class weights"
   ]
  },
  {
   "cell_type": "code",
   "execution_count": 33,
   "metadata": {},
   "outputs": [],
   "source": [
    "from sklearn.ensemble import RandomForestClassifier, GradientBoostingClassifier, BaggingClassifier\n",
    "from sklearn.neighbors import KNeighborsClassifier"
   ]
  },
  {
   "cell_type": "code",
   "execution_count": 34,
   "metadata": {},
   "outputs": [],
   "source": [
    "from sklearn.metrics import recall_score"
   ]
  },
  {
   "cell_type": "code",
   "execution_count": 35,
   "metadata": {},
   "outputs": [],
   "source": [
    "def find_best_model_using_gridsearchcv(X, y):\n",
    "    algos = {\n",
    "        'Logistic Regression': {\n",
    "            'model': LogisticRegression(class_weight='balanced'),\n",
    "            'params': {\n",
    "                'C': [0.1, 1, 10],\n",
    "                'penalty': ['l1', 'l2'],\n",
    "                'solver': ['liblinear', 'saga']\n",
    "            }\n",
    "        },\n",
    "        'Random Forest': {\n",
    "            'model': RandomForestClassifier(class_weight='balanced'),\n",
    "            'params': {\n",
    "                'n_estimators': [50, 100, 200],\n",
    "                'max_depth': [None, 10, 20],\n",
    "                'min_samples_split': [2, 5, 10]\n",
    "            }\n",
    "        },\n",
    "        'Gradient Boosting': {\n",
    "            'model': GradientBoostingClassifier(),\n",
    "            'params': {\n",
    "                'n_estimators': [50, 100, 200],\n",
    "                'learning_rate': [0.01, 0.1, 0.2],\n",
    "                'max_depth': [3, 5, 7]\n",
    "            }\n",
    "        },\n",
    "\n",
    "        'Bagging Classifier': {\n",
    "            'model': BaggingClassifier(random_state=1, base_estimator=LogisticRegression(class_weight='balanced')),\n",
    "            'params': {\n",
    "                'n_estimators': [20, 50, 100],\n",
    "                'max_samples': [0.5, 1.0],\n",
    "                'max_features': [0.5, 1.0],\n",
    "                'bootstrap': [True, False],\n",
    "                'bootstrap_features': [True, False]\n",
    "            }\n",
    "        }\n",
    "    }\n",
    "\n",
    "    scores = []\n",
    "    total_algos = len(algos)\n",
    "\n",
    "    for index, (algo_name, config) in enumerate(algos.items()):\n",
    "        print(f\"Training {algo_name} ({index + 1}/{total_algos}) with parameters: {config['params']}\")\n",
    "        gs = GridSearchCV(config['model'], config['params'], cv=3, scoring='recall', verbose=1,n_jobs=-1)\n",
    "        x_train,x_test,y_train,y_test = train_test_split(X,y,test_size=0.2,random_state=42)\n",
    "        gs.fit(x_train, y_train)\n",
    "        \n",
    "        # Evaluate best model\n",
    "        best_model = gs.best_estimator_\n",
    "        y_pred = best_model.predict(x_test)\n",
    "\n",
    "        accuracy = accuracy_score(y_test, y_pred)\n",
    "        precision = precision_score(y_test, y_pred)\n",
    "        recall = recall_score(y_test,y_pred)\n",
    "\n",
    "        scores.append({\n",
    "            'model': algo_name,\n",
    "            'best_score': gs.best_score_,\n",
    "            'best_params': gs.best_params_,\n",
    "            'accuracy': accuracy,\n",
    "            'precision': precision,\n",
    "            'recall':recall\n",
    "        })\n",
    "    \n",
    "    return pd.DataFrame(scores)"
   ]
  },
  {
   "cell_type": "code",
   "execution_count": 36,
   "metadata": {},
   "outputs": [
    {
     "name": "stdout",
     "output_type": "stream",
     "text": [
      "Training Logistic Regression (1/4) with parameters: {'C': [0.1, 1, 10], 'penalty': ['l1', 'l2'], 'solver': ['liblinear', 'saga']}\n",
      "Fitting 3 folds for each of 12 candidates, totalling 36 fits\n",
      "Training Random Forest (2/4) with parameters: {'n_estimators': [50, 100, 200], 'max_depth': [None, 10, 20], 'min_samples_split': [2, 5, 10]}\n",
      "Fitting 3 folds for each of 27 candidates, totalling 81 fits\n",
      "Training Gradient Boosting (3/4) with parameters: {'n_estimators': [50, 100, 200], 'learning_rate': [0.01, 0.1, 0.2], 'max_depth': [3, 5, 7]}\n",
      "Fitting 3 folds for each of 27 candidates, totalling 81 fits\n",
      "Training Bagging Classifier (4/4) with parameters: {'n_estimators': [20, 50, 100], 'max_samples': [0.5, 1.0], 'max_features': [0.5, 1.0], 'bootstrap': [True, False], 'bootstrap_features': [True, False]}\n",
      "Fitting 3 folds for each of 48 candidates, totalling 144 fits\n"
     ]
    },
    {
     "name": "stderr",
     "output_type": "stream",
     "text": [
      "e:\\anaconda3\\Lib\\site-packages\\sklearn\\ensemble\\_base.py:166: FutureWarning: `base_estimator` was renamed to `estimator` in version 1.2 and will be removed in 1.4.\n",
      "  warnings.warn(\n"
     ]
    }
   ],
   "source": [
    "scores = find_best_model_using_gridsearchcv(X,y)"
   ]
  },
  {
   "cell_type": "code",
   "execution_count": 37,
   "metadata": {},
   "outputs": [
    {
     "data": {
      "text/html": [
       "<div>\n",
       "<style scoped>\n",
       "    .dataframe tbody tr th:only-of-type {\n",
       "        vertical-align: middle;\n",
       "    }\n",
       "\n",
       "    .dataframe tbody tr th {\n",
       "        vertical-align: top;\n",
       "    }\n",
       "\n",
       "    .dataframe thead th {\n",
       "        text-align: right;\n",
       "    }\n",
       "</style>\n",
       "<table border=\"1\" class=\"dataframe\">\n",
       "  <thead>\n",
       "    <tr style=\"text-align: right;\">\n",
       "      <th></th>\n",
       "      <th>model</th>\n",
       "      <th>best_score</th>\n",
       "      <th>best_params</th>\n",
       "      <th>accuracy</th>\n",
       "      <th>precision</th>\n",
       "      <th>recall</th>\n",
       "    </tr>\n",
       "  </thead>\n",
       "  <tbody>\n",
       "    <tr>\n",
       "      <th>0</th>\n",
       "      <td>Logistic Regression</td>\n",
       "      <td>0.883185</td>\n",
       "      <td>{'C': 0.1, 'penalty': 'l2', 'solver': 'libline...</td>\n",
       "      <td>0.88820</td>\n",
       "      <td>0.424182</td>\n",
       "      <td>0.875514</td>\n",
       "    </tr>\n",
       "    <tr>\n",
       "      <th>1</th>\n",
       "      <td>Random Forest</td>\n",
       "      <td>0.912610</td>\n",
       "      <td>{'max_depth': 10, 'min_samples_split': 10, 'n_...</td>\n",
       "      <td>0.89845</td>\n",
       "      <td>0.452464</td>\n",
       "      <td>0.916618</td>\n",
       "    </tr>\n",
       "    <tr>\n",
       "      <th>2</th>\n",
       "      <td>Gradient Boosting</td>\n",
       "      <td>0.697661</td>\n",
       "      <td>{'learning_rate': 0.2, 'max_depth': 7, 'n_esti...</td>\n",
       "      <td>0.96855</td>\n",
       "      <td>0.911179</td>\n",
       "      <td>0.698767</td>\n",
       "    </tr>\n",
       "    <tr>\n",
       "      <th>3</th>\n",
       "      <td>Bagging Classifier</td>\n",
       "      <td>0.886421</td>\n",
       "      <td>{'bootstrap': False, 'bootstrap_features': Fal...</td>\n",
       "      <td>0.87995</td>\n",
       "      <td>0.404749</td>\n",
       "      <td>0.870816</td>\n",
       "    </tr>\n",
       "  </tbody>\n",
       "</table>\n",
       "</div>"
      ],
      "text/plain": [
       "                 model  best_score  \\\n",
       "0  Logistic Regression    0.883185   \n",
       "1        Random Forest    0.912610   \n",
       "2    Gradient Boosting    0.697661   \n",
       "3   Bagging Classifier    0.886421   \n",
       "\n",
       "                                         best_params  accuracy  precision  \\\n",
       "0  {'C': 0.1, 'penalty': 'l2', 'solver': 'libline...   0.88820   0.424182   \n",
       "1  {'max_depth': 10, 'min_samples_split': 10, 'n_...   0.89845   0.452464   \n",
       "2  {'learning_rate': 0.2, 'max_depth': 7, 'n_esti...   0.96855   0.911179   \n",
       "3  {'bootstrap': False, 'bootstrap_features': Fal...   0.87995   0.404749   \n",
       "\n",
       "     recall  \n",
       "0  0.875514  \n",
       "1  0.916618  \n",
       "2  0.698767  \n",
       "3  0.870816  "
      ]
     },
     "execution_count": 37,
     "metadata": {},
     "output_type": "execute_result"
    }
   ],
   "source": [
    "scores"
   ]
  },
  {
   "cell_type": "code",
   "execution_count": 38,
   "metadata": {},
   "outputs": [
    {
     "data": {
      "text/plain": [
       "{'C': 0.1, 'penalty': 'l2', 'solver': 'liblinear'}"
      ]
     },
     "execution_count": 38,
     "metadata": {},
     "output_type": "execute_result"
    }
   ],
   "source": [
    "scores['best_params'][0]"
   ]
  },
  {
   "cell_type": "code",
   "execution_count": 55,
   "metadata": {},
   "outputs": [
    {
     "data": {
      "text/plain": [
       "{'max_depth': 10, 'min_samples_split': 10, 'n_estimators': 50}"
      ]
     },
     "execution_count": 55,
     "metadata": {},
     "output_type": "execute_result"
    }
   ],
   "source": [
    "scores['best_params'][1]"
   ]
  },
  {
   "cell_type": "code",
   "execution_count": 56,
   "metadata": {},
   "outputs": [],
   "source": [
    "rnf = RandomForestClassifier(max_depth=10,min_samples_split=10,n_estimators=50,class_weight='balanced')"
   ]
  },
  {
   "cell_type": "code",
   "execution_count": 57,
   "metadata": {},
   "outputs": [
    {
     "data": {
      "text/html": [
       "<style>#sk-container-id-4 {color: black;background-color: white;}#sk-container-id-4 pre{padding: 0;}#sk-container-id-4 div.sk-toggleable {background-color: white;}#sk-container-id-4 label.sk-toggleable__label {cursor: pointer;display: block;width: 100%;margin-bottom: 0;padding: 0.3em;box-sizing: border-box;text-align: center;}#sk-container-id-4 label.sk-toggleable__label-arrow:before {content: \"▸\";float: left;margin-right: 0.25em;color: #696969;}#sk-container-id-4 label.sk-toggleable__label-arrow:hover:before {color: black;}#sk-container-id-4 div.sk-estimator:hover label.sk-toggleable__label-arrow:before {color: black;}#sk-container-id-4 div.sk-toggleable__content {max-height: 0;max-width: 0;overflow: hidden;text-align: left;background-color: #f0f8ff;}#sk-container-id-4 div.sk-toggleable__content pre {margin: 0.2em;color: black;border-radius: 0.25em;background-color: #f0f8ff;}#sk-container-id-4 input.sk-toggleable__control:checked~div.sk-toggleable__content {max-height: 200px;max-width: 100%;overflow: auto;}#sk-container-id-4 input.sk-toggleable__control:checked~label.sk-toggleable__label-arrow:before {content: \"▾\";}#sk-container-id-4 div.sk-estimator input.sk-toggleable__control:checked~label.sk-toggleable__label {background-color: #d4ebff;}#sk-container-id-4 div.sk-label input.sk-toggleable__control:checked~label.sk-toggleable__label {background-color: #d4ebff;}#sk-container-id-4 input.sk-hidden--visually {border: 0;clip: rect(1px 1px 1px 1px);clip: rect(1px, 1px, 1px, 1px);height: 1px;margin: -1px;overflow: hidden;padding: 0;position: absolute;width: 1px;}#sk-container-id-4 div.sk-estimator {font-family: monospace;background-color: #f0f8ff;border: 1px dotted black;border-radius: 0.25em;box-sizing: border-box;margin-bottom: 0.5em;}#sk-container-id-4 div.sk-estimator:hover {background-color: #d4ebff;}#sk-container-id-4 div.sk-parallel-item::after {content: \"\";width: 100%;border-bottom: 1px solid gray;flex-grow: 1;}#sk-container-id-4 div.sk-label:hover label.sk-toggleable__label {background-color: #d4ebff;}#sk-container-id-4 div.sk-serial::before {content: \"\";position: absolute;border-left: 1px solid gray;box-sizing: border-box;top: 0;bottom: 0;left: 50%;z-index: 0;}#sk-container-id-4 div.sk-serial {display: flex;flex-direction: column;align-items: center;background-color: white;padding-right: 0.2em;padding-left: 0.2em;position: relative;}#sk-container-id-4 div.sk-item {position: relative;z-index: 1;}#sk-container-id-4 div.sk-parallel {display: flex;align-items: stretch;justify-content: center;background-color: white;position: relative;}#sk-container-id-4 div.sk-item::before, #sk-container-id-4 div.sk-parallel-item::before {content: \"\";position: absolute;border-left: 1px solid gray;box-sizing: border-box;top: 0;bottom: 0;left: 50%;z-index: -1;}#sk-container-id-4 div.sk-parallel-item {display: flex;flex-direction: column;z-index: 1;position: relative;background-color: white;}#sk-container-id-4 div.sk-parallel-item:first-child::after {align-self: flex-end;width: 50%;}#sk-container-id-4 div.sk-parallel-item:last-child::after {align-self: flex-start;width: 50%;}#sk-container-id-4 div.sk-parallel-item:only-child::after {width: 0;}#sk-container-id-4 div.sk-dashed-wrapped {border: 1px dashed gray;margin: 0 0.4em 0.5em 0.4em;box-sizing: border-box;padding-bottom: 0.4em;background-color: white;}#sk-container-id-4 div.sk-label label {font-family: monospace;font-weight: bold;display: inline-block;line-height: 1.2em;}#sk-container-id-4 div.sk-label-container {text-align: center;}#sk-container-id-4 div.sk-container {/* jupyter's `normalize.less` sets `[hidden] { display: none; }` but bootstrap.min.css set `[hidden] { display: none !important; }` so we also need the `!important` here to be able to override the default hidden behavior on the sphinx rendered scikit-learn.org. See: https://github.com/scikit-learn/scikit-learn/issues/21755 */display: inline-block !important;position: relative;}#sk-container-id-4 div.sk-text-repr-fallback {display: none;}</style><div id=\"sk-container-id-4\" class=\"sk-top-container\"><div class=\"sk-text-repr-fallback\"><pre>RandomForestClassifier(class_weight=&#x27;balanced&#x27;, max_depth=10,\n",
       "                       min_samples_split=10, n_estimators=50)</pre><b>In a Jupyter environment, please rerun this cell to show the HTML representation or trust the notebook. <br />On GitHub, the HTML representation is unable to render, please try loading this page with nbviewer.org.</b></div><div class=\"sk-container\" hidden><div class=\"sk-item\"><div class=\"sk-estimator sk-toggleable\"><input class=\"sk-toggleable__control sk-hidden--visually\" id=\"sk-estimator-id-4\" type=\"checkbox\" checked><label for=\"sk-estimator-id-4\" class=\"sk-toggleable__label sk-toggleable__label-arrow\">RandomForestClassifier</label><div class=\"sk-toggleable__content\"><pre>RandomForestClassifier(class_weight=&#x27;balanced&#x27;, max_depth=10,\n",
       "                       min_samples_split=10, n_estimators=50)</pre></div></div></div></div></div>"
      ],
      "text/plain": [
       "RandomForestClassifier(class_weight='balanced', max_depth=10,\n",
       "                       min_samples_split=10, n_estimators=50)"
      ]
     },
     "execution_count": 57,
     "metadata": {},
     "output_type": "execute_result"
    }
   ],
   "source": [
    "rnf.fit(x_train,y_train)"
   ]
  },
  {
   "cell_type": "code",
   "execution_count": 58,
   "metadata": {},
   "outputs": [],
   "source": [
    "y_pred = rnf.predict(x_test)"
   ]
  },
  {
   "cell_type": "code",
   "execution_count": 59,
   "metadata": {},
   "outputs": [
    {
     "data": {
      "text/plain": [
       "array([[16506,  1791],\n",
       "       [  151,  1552]], dtype=int64)"
      ]
     },
     "execution_count": 59,
     "metadata": {},
     "output_type": "execute_result"
    }
   ],
   "source": [
    "confusion_matrix(y_test,y_pred)"
   ]
  },
  {
   "cell_type": "markdown",
   "metadata": {},
   "source": [
    "# 2. With Under Sampling"
   ]
  },
  {
   "cell_type": "code",
   "execution_count": 43,
   "metadata": {},
   "outputs": [],
   "source": [
    "def find_best_model_using_gridsearchcv(X, y):\n",
    "    algos = {\n",
    "        'Logistic Regression': {\n",
    "            'model': LogisticRegression(),\n",
    "            'params': {\n",
    "                'C': [0.1, 1, 10],\n",
    "                'penalty': ['l1', 'l2'],\n",
    "                'solver': ['liblinear', 'saga']\n",
    "            }\n",
    "        },\n",
    "        'Random Forest': {\n",
    "            'model': RandomForestClassifier(),\n",
    "            'params': {\n",
    "                'n_estimators': [50, 100, 200],\n",
    "                'max_depth': [None, 10, 20],\n",
    "                'min_samples_split': [2, 5, 10]\n",
    "            }\n",
    "        },\n",
    "        'Gradient Boosting': {\n",
    "            'model': GradientBoostingClassifier(),\n",
    "            'params': {\n",
    "                'n_estimators': [50, 100, 200],\n",
    "                'learning_rate': [0.01, 0.1, 0.2],\n",
    "                'max_depth': [3, 5, 7]\n",
    "            }\n",
    "        },\n",
    "        'Bagging Classifier': {\n",
    "            'model': BaggingClassifier(random_state=1),\n",
    "            'params': {\n",
    "                'base_estimator': [None, LogisticRegression(),KNeighborsClassifier()],\n",
    "                'n_estimators': [20, 50, 100],\n",
    "                'max_samples': [0.5, 1.0],\n",
    "                'max_features': [0.5, 1.0],\n",
    "                'bootstrap': [True, False],\n",
    "                'bootstrap_features': [True, False]\n",
    "            }\n",
    "        }\n",
    "    }\n",
    "\n",
    "    scores = []\n",
    "    total_algos = len(algos)\n",
    "\n",
    "    for index, (algo_name, config) in enumerate(algos.items()):\n",
    "        print(f\"Training {algo_name} ({index + 1}/{total_algos}) with parameters: {config['params']}\")\n",
    "        gs = GridSearchCV(config['model'], config['params'], cv=3, scoring='recall', verbose=1,n_jobs=-1)\n",
    "        x_train,x_test,y_train,y_test = train_test_split(X,y,test_size=0.2,random_state=42)\n",
    "        gs.fit(x_train, y_train)\n",
    "        \n",
    "        # Evaluate best model\n",
    "        best_model = gs.best_estimator_\n",
    "        y_pred = best_model.predict(x_test)\n",
    "\n",
    "        accuracy = accuracy_score(y_test, y_pred)\n",
    "        precision = precision_score(y_test, y_pred)\n",
    "        recall = recall_score(y_test,y_pred)\n",
    "\n",
    "        scores.append({\n",
    "            'model': algo_name,\n",
    "            'best_score': gs.best_score_,\n",
    "            'best_params': gs.best_params_,\n",
    "            'accuracy': accuracy,\n",
    "            'precision': precision,\n",
    "            'recall':recall\n",
    "        })\n",
    "    \n",
    "    return pd.DataFrame(scores)"
   ]
  },
  {
   "cell_type": "code",
   "execution_count": 44,
   "metadata": {},
   "outputs": [
    {
     "name": "stdout",
     "output_type": "stream",
     "text": [
      "Training Logistic Regression (1/4) with parameters: {'C': [0.1, 1, 10], 'penalty': ['l1', 'l2'], 'solver': ['liblinear', 'saga']}\n",
      "Fitting 3 folds for each of 12 candidates, totalling 36 fits\n",
      "Training Random Forest (2/4) with parameters: {'n_estimators': [50, 100, 200], 'max_depth': [None, 10, 20], 'min_samples_split': [2, 5, 10]}\n",
      "Fitting 3 folds for each of 27 candidates, totalling 81 fits\n",
      "Training Gradient Boosting (3/4) with parameters: {'n_estimators': [50, 100, 200], 'learning_rate': [0.01, 0.1, 0.2], 'max_depth': [3, 5, 7]}\n",
      "Fitting 3 folds for each of 27 candidates, totalling 81 fits\n",
      "Training Bagging Classifier (4/4) with parameters: {'base_estimator': [None, LogisticRegression(), KNeighborsClassifier()], 'n_estimators': [20, 50, 100], 'max_samples': [0.5, 1.0], 'max_features': [0.5, 1.0], 'bootstrap': [True, False], 'bootstrap_features': [True, False]}\n",
      "Fitting 3 folds for each of 144 candidates, totalling 432 fits\n"
     ]
    }
   ],
   "source": [
    "scores_resampled =  find_best_model_using_gridsearchcv(X_resampled,y_resampled)"
   ]
  },
  {
   "cell_type": "code",
   "execution_count": 45,
   "metadata": {},
   "outputs": [
    {
     "data": {
      "text/html": [
       "<div>\n",
       "<style scoped>\n",
       "    .dataframe tbody tr th:only-of-type {\n",
       "        vertical-align: middle;\n",
       "    }\n",
       "\n",
       "    .dataframe tbody tr th {\n",
       "        vertical-align: top;\n",
       "    }\n",
       "\n",
       "    .dataframe thead th {\n",
       "        text-align: right;\n",
       "    }\n",
       "</style>\n",
       "<table border=\"1\" class=\"dataframe\">\n",
       "  <thead>\n",
       "    <tr style=\"text-align: right;\">\n",
       "      <th></th>\n",
       "      <th>model</th>\n",
       "      <th>best_score</th>\n",
       "      <th>best_params</th>\n",
       "      <th>accuracy</th>\n",
       "      <th>precision</th>\n",
       "      <th>recall</th>\n",
       "    </tr>\n",
       "  </thead>\n",
       "  <tbody>\n",
       "    <tr>\n",
       "      <th>0</th>\n",
       "      <td>Logistic Regression</td>\n",
       "      <td>0.886107</td>\n",
       "      <td>{'C': 0.1, 'penalty': 'l2', 'solver': 'libline...</td>\n",
       "      <td>0.885000</td>\n",
       "      <td>0.886098</td>\n",
       "      <td>0.885581</td>\n",
       "    </tr>\n",
       "    <tr>\n",
       "      <th>1</th>\n",
       "      <td>Random Forest</td>\n",
       "      <td>0.918078</td>\n",
       "      <td>{'max_depth': 10, 'min_samples_split': 10, 'n_...</td>\n",
       "      <td>0.914412</td>\n",
       "      <td>0.903061</td>\n",
       "      <td>0.929947</td>\n",
       "    </tr>\n",
       "    <tr>\n",
       "      <th>2</th>\n",
       "      <td>Gradient Boosting</td>\n",
       "      <td>0.937823</td>\n",
       "      <td>{'learning_rate': 0.01, 'max_depth': 3, 'n_est...</td>\n",
       "      <td>0.902941</td>\n",
       "      <td>0.874391</td>\n",
       "      <td>0.942790</td>\n",
       "    </tr>\n",
       "    <tr>\n",
       "      <th>3</th>\n",
       "      <td>Bagging Classifier</td>\n",
       "      <td>0.919258</td>\n",
       "      <td>{'base_estimator': None, 'bootstrap': False, '...</td>\n",
       "      <td>0.913235</td>\n",
       "      <td>0.909827</td>\n",
       "      <td>0.918856</td>\n",
       "    </tr>\n",
       "  </tbody>\n",
       "</table>\n",
       "</div>"
      ],
      "text/plain": [
       "                 model  best_score  \\\n",
       "0  Logistic Regression    0.886107   \n",
       "1        Random Forest    0.918078   \n",
       "2    Gradient Boosting    0.937823   \n",
       "3   Bagging Classifier    0.919258   \n",
       "\n",
       "                                         best_params  accuracy  precision  \\\n",
       "0  {'C': 0.1, 'penalty': 'l2', 'solver': 'libline...  0.885000   0.886098   \n",
       "1  {'max_depth': 10, 'min_samples_split': 10, 'n_...  0.914412   0.903061   \n",
       "2  {'learning_rate': 0.01, 'max_depth': 3, 'n_est...  0.902941   0.874391   \n",
       "3  {'base_estimator': None, 'bootstrap': False, '...  0.913235   0.909827   \n",
       "\n",
       "     recall  \n",
       "0  0.885581  \n",
       "1  0.929947  \n",
       "2  0.942790  \n",
       "3  0.918856  "
      ]
     },
     "execution_count": 45,
     "metadata": {},
     "output_type": "execute_result"
    }
   ],
   "source": [
    "scores_resampled"
   ]
  }
 ],
 "metadata": {
  "kernelspec": {
   "display_name": "base",
   "language": "python",
   "name": "python3"
  },
  "language_info": {
   "codemirror_mode": {
    "name": "ipython",
    "version": 3
   },
   "file_extension": ".py",
   "mimetype": "text/x-python",
   "name": "python",
   "nbconvert_exporter": "python",
   "pygments_lexer": "ipython3",
   "version": "3.11.7"
  }
 },
 "nbformat": 4,
 "nbformat_minor": 2
}
